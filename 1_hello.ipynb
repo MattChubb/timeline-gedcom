{
 "cells": [
  {
   "cell_type": "markdown",
   "id": "8a561f0f-33be-4ea8-bc48-ebdb49d8309f",
   "metadata": {},
   "source": [
    "# Hello, World!"
   ]
  },
  {
   "cell_type": "code",
   "execution_count": 1,
   "id": "43a1bbba-d068-47b8-b517-c6826861a51e",
   "metadata": {},
   "outputs": [
    {
     "name": "stdout",
     "output_type": "stream",
     "text": [
      "[1 NAME Victoria  /Hanover/]\n"
     ]
    }
   ],
   "source": [
    "from gedcom5.parser import GEDCOM5Parser\n",
    "\n",
    "parser = GEDCOM5Parser()\n",
    "\n",
    "with open(\"data/royal92.ged\") as f:\n",
    "    gedcom = parser.parse_string(f.read())\n",
    "\n",
    "print(gedcom.indi[0].name)"
   ]
  }
 ],
 "metadata": {
  "kernelspec": {
   "display_name": "Python 3 (ipykernel)",
   "language": "python",
   "name": "python3"
  },
  "language_info": {
   "codemirror_mode": {
    "name": "ipython",
    "version": 3
   },
   "file_extension": ".py",
   "mimetype": "text/x-python",
   "name": "python",
   "nbconvert_exporter": "python",
   "pygments_lexer": "ipython3",
   "version": "3.11.6"
  }
 },
 "nbformat": 4,
 "nbformat_minor": 5
}
