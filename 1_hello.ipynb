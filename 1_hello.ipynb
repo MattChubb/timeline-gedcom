{
 "cells": [
  {
   "cell_type": "markdown",
   "id": "8a561f0f-33be-4ea8-bc48-ebdb49d8309f",
   "metadata": {},
   "source": [
    "# Hello, World!"
   ]
  },
  {
   "cell_type": "code",
   "execution_count": 1,
   "id": "7ae82283-aa9c-41cc-b2e4-6e6c012235b3",
   "metadata": {},
   "outputs": [
    {
     "name": "stdout",
     "output_type": "stream",
     "text": [
      "0 HEAD\n",
      "1 SOUR PAF 2.2\n",
      "1 DEST PAF\n",
      "1 DATE 20 NOV 1992\n",
      "1 FILE ROYALS.GED\n",
      "1 CHAR ANSEL\n"
     ]
    }
   ],
   "source": [
    "import itertools\n",
    "\n",
    "with open(\"data/royal92.ged\") as f:\n",
    "    for line in itertools.islice(f, 6):\n",
    "        print(line, end=\"\")"
   ]
  }
 ],
 "metadata": {
  "kernelspec": {
   "display_name": "Python 3 (ipykernel)",
   "language": "python",
   "name": "python3"
  },
  "language_info": {
   "codemirror_mode": {
    "name": "ipython",
    "version": 3
   },
   "file_extension": ".py",
   "mimetype": "text/x-python",
   "name": "python",
   "nbconvert_exporter": "python",
   "pygments_lexer": "ipython3",
   "version": "3.11.6"
  }
 },
 "nbformat": 4,
 "nbformat_minor": 5
}
